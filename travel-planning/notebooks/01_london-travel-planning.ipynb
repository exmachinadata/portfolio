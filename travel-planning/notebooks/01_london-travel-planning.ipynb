{
 "cells": [
  {
   "cell_type": "markdown",
   "metadata": {},
   "source": [
    "# Intro and setup"
   ]
  },
  {
   "cell_type": "markdown",
   "metadata": {},
   "source": [
    "![London travel planning](img/london-travel-planning.jpg)"
   ]
  },
  {
   "cell_type": "markdown",
   "metadata": {},
   "source": [
    "**Travelling is one of my favourite hobbies but it often comes with frustration.**\n",
    "\n",
    "It can be so difficult to plan a trip.  There are so many things to do in the travel planning process, e.g.:\n",
    "* Choose a destination (probably from a shortlist).\n",
    "* Book flights.\n",
    "* Book accommodation (again from a shortlist).\n",
    "* Develop a travel itinerary.\n",
    "* Pack bags for the trip.\n",
    "* Arrange transport (e.g. to airport and accommodation).\n",
    "\n",
    "All that is done before even going on a trip, but already the number of tasks involved seems time-consuming.  Some trips can take days to plan over a long period and the planning process is typically iterative (e.g. develop a draft itinerary and then refine it nearer the time).\n",
    "\n",
    "**Even as a seasoned traveller I would say that developing a travel itinerary is the hardest thing to do in that list.**  An itinerary defines a trip and it is something that you want to get right, especially if it may be your only visit to a destination.  For all the travel guides and websites I examine when planning a trip, I normally need to adjust my plans 'on the day': e.g. the transportation isn't as straightforward as I thought; an attraction is closed; plans are dependent on weather conditions.\n",
    "\n",
    "**Since itineraries are so time-consuming to get right, before and during a trip, I've sought a way to make it easier for me to develop a travel itinerary via data science techniques.**  As someone who has lived, studied and worked in London, I thought it would be worthwhile to start off the project by using data on London.\n",
    "\n",
    "I read Hamza Bendemra's post on [geo-location clustering in Paris](https://towardsdatascience.com/using-unsupervised-learning-to-plan-a-paris-vacation-geo-location-clustering-d0337b4210de), which inspired me to do a take on a project like this one.  With my experience in travel technology, experience of travel planning for large groups and a project on transportation, I thought I could go much further in my own project on travel planning.\n",
    "\n",
    "**These are the two aims of this notebook:**\n",
    "* _Find the nearest rail station for London's top attractions_ and calculate how close the attractions are to each station.\n",
    "* _Group together London's top attractions and use the groupings for itinerary planning_ (e.g. spend one day for attractions in one group, another day for attractions in a second group, etc.).\n",
    "\n",
    "That could help to establish a proof of concept for a more ambitious project."
   ]
  },
  {
   "cell_type": "markdown",
   "metadata": {},
   "source": [
    "## Packages and magic"
   ]
  },
  {
   "cell_type": "code",
   "execution_count": 1,
   "metadata": {},
   "outputs": [],
   "source": [
    "# Built-in libraries\n",
    "from math import radians, sin, cos, asin, sqrt\n",
    "\n",
    "# Core libraries\n",
    "import numpy as np\n",
    "import pandas as pd\n",
    "import scipy as sp\n",
    "\n",
    "# Additional libraries\n",
    "import hdbscan\n",
    "\n",
    "# Plotting\n",
    "import seaborn as sns\n",
    "import matplotlib.pyplot as plt\n",
    "%matplotlib inline\n",
    "\n",
    "# Problems with geopandas and basemap to address another time:\n",
    "# https://geoffboeing.com/2014/09/using-geopandas-windows/\n",
    "# # import geopandas\n",
    "# # from mpl_toolkits.basemap import Basemap"
   ]
  },
  {
   "cell_type": "code",
   "execution_count": 2,
   "metadata": {},
   "outputs": [],
   "source": [
    "# Set aesthetic parameters for this notebook\n",
    "sns.set(context='notebook', style='whitegrid', font_scale=1.2)"
   ]
  },
  {
   "cell_type": "markdown",
   "metadata": {},
   "source": [
    "# Load data"
   ]
  },
  {
   "cell_type": "markdown",
   "metadata": {},
   "source": [
    "There are two datasets to load in order to do analysis:\n",
    "* **`rail`:** a spreadsheet with geodata about over 600 rail stations in London.\n",
    "* **`sights`:** a spreadsheet with data from the top London attractions listed on TripAdvisor.\n",
    "\n",
    "This data collection did not involve any web scraping!\n",
    "\n",
    "The `sights` dataset only required a little time for data entry.  The `rail` dataset that I've developed has been used in my project on the London rail network.\n",
    "\n",
    "There are only a few features in each dataset so they will be explained in more detail below."
   ]
  },
  {
   "cell_type": "markdown",
   "metadata": {},
   "source": [
    "## Rail dataset"
   ]
  },
  {
   "cell_type": "markdown",
   "metadata": {},
   "source": [
    "Each record of this dataset contains information about a rail station in London.  The features include a variety of geodata, e.g.: latitude; longitude; postcode; TfL Rail Zone."
   ]
  },
  {
   "cell_type": "code",
   "execution_count": 3,
   "metadata": {},
   "outputs": [
    {
     "data": {
      "text/html": [
       "<div>\n",
       "<style scoped>\n",
       "    .dataframe tbody tr th:only-of-type {\n",
       "        vertical-align: middle;\n",
       "    }\n",
       "\n",
       "    .dataframe tbody tr th {\n",
       "        vertical-align: top;\n",
       "    }\n",
       "\n",
       "    .dataframe thead th {\n",
       "        text-align: right;\n",
       "    }\n",
       "</style>\n",
       "<table border=\"1\" class=\"dataframe\">\n",
       "  <thead>\n",
       "    <tr style=\"text-align: right;\">\n",
       "      <th></th>\n",
       "      <th>urn</th>\n",
       "      <th>station</th>\n",
       "      <th>latitude</th>\n",
       "      <th>longitude</th>\n",
       "      <th>zone</th>\n",
       "      <th>postcode</th>\n",
       "      <th>id_constructor_preid</th>\n",
       "      <th>id_constructor_prime</th>\n",
       "      <th>id_constructor_group</th>\n",
       "      <th>id_constructor_pref</th>\n",
       "      <th>comment</th>\n",
       "      <th>open</th>\n",
       "    </tr>\n",
       "    <tr>\n",
       "      <th>id</th>\n",
       "      <th></th>\n",
       "      <th></th>\n",
       "      <th></th>\n",
       "      <th></th>\n",
       "      <th></th>\n",
       "      <th></th>\n",
       "      <th></th>\n",
       "      <th></th>\n",
       "      <th></th>\n",
       "      <th></th>\n",
       "      <th></th>\n",
       "      <th></th>\n",
       "    </tr>\n",
       "  </thead>\n",
       "  <tbody>\n",
       "    <tr>\n",
       "      <th>01001</th>\n",
       "      <td>49</td>\n",
       "      <td>Blackfriars</td>\n",
       "      <td>51.511587</td>\n",
       "      <td>-0.102995</td>\n",
       "      <td>1</td>\n",
       "      <td>EC4V 4DD</td>\n",
       "      <td>1</td>\n",
       "      <td>2</td>\n",
       "      <td>0</td>\n",
       "      <td>010</td>\n",
       "      <td>NaN</td>\n",
       "      <td>True</td>\n",
       "    </tr>\n",
       "    <tr>\n",
       "      <th>01002</th>\n",
       "      <td>87</td>\n",
       "      <td>Cannon Street</td>\n",
       "      <td>51.511362</td>\n",
       "      <td>-0.090251</td>\n",
       "      <td>1</td>\n",
       "      <td>EC4N 6AP</td>\n",
       "      <td>2</td>\n",
       "      <td>3</td>\n",
       "      <td>0</td>\n",
       "      <td>010</td>\n",
       "      <td>NaN</td>\n",
       "      <td>True</td>\n",
       "    </tr>\n",
       "    <tr>\n",
       "      <th>01003</th>\n",
       "      <td>102</td>\n",
       "      <td>Charing Cross</td>\n",
       "      <td>51.508359</td>\n",
       "      <td>-0.124803</td>\n",
       "      <td>1</td>\n",
       "      <td>WC2N 5HS</td>\n",
       "      <td>3</td>\n",
       "      <td>5</td>\n",
       "      <td>0</td>\n",
       "      <td>010</td>\n",
       "      <td>NaN</td>\n",
       "      <td>True</td>\n",
       "    </tr>\n",
       "    <tr>\n",
       "      <th>01004</th>\n",
       "      <td>190</td>\n",
       "      <td>Euston</td>\n",
       "      <td>51.528664</td>\n",
       "      <td>-0.133296</td>\n",
       "      <td>1</td>\n",
       "      <td>NW1 2DU</td>\n",
       "      <td>4</td>\n",
       "      <td>7</td>\n",
       "      <td>0</td>\n",
       "      <td>010</td>\n",
       "      <td>NaN</td>\n",
       "      <td>True</td>\n",
       "    </tr>\n",
       "    <tr>\n",
       "      <th>01005</th>\n",
       "      <td>198</td>\n",
       "      <td>Fenchurch Street</td>\n",
       "      <td>51.511567</td>\n",
       "      <td>-0.078554</td>\n",
       "      <td>1</td>\n",
       "      <td>EC3M 4AJ</td>\n",
       "      <td>5</td>\n",
       "      <td>11</td>\n",
       "      <td>0</td>\n",
       "      <td>010</td>\n",
       "      <td>NaN</td>\n",
       "      <td>True</td>\n",
       "    </tr>\n",
       "  </tbody>\n",
       "</table>\n",
       "</div>"
      ],
      "text/plain": [
       "       urn           station   latitude  longitude zone  postcode  \\\n",
       "id                                                                  \n",
       "01001   49       Blackfriars  51.511587  -0.102995    1  EC4V 4DD   \n",
       "01002   87     Cannon Street  51.511362  -0.090251    1  EC4N 6AP   \n",
       "01003  102     Charing Cross  51.508359  -0.124803    1  WC2N 5HS   \n",
       "01004  190            Euston  51.528664  -0.133296    1   NW1 2DU   \n",
       "01005  198  Fenchurch Street  51.511567  -0.078554    1  EC3M 4AJ   \n",
       "\n",
       "       id_constructor_preid  id_constructor_prime  id_constructor_group  \\\n",
       "id                                                                        \n",
       "01001                     1                     2                     0   \n",
       "01002                     2                     3                     0   \n",
       "01003                     3                     5                     0   \n",
       "01004                     4                     7                     0   \n",
       "01005                     5                    11                     0   \n",
       "\n",
       "      id_constructor_pref comment  open  \n",
       "id                                       \n",
       "01001                 010     NaN  True  \n",
       "01002                 010     NaN  True  \n",
       "01003                 010     NaN  True  \n",
       "01004                 010     NaN  True  \n",
       "01005                 010     NaN  True  "
      ]
     },
     "execution_count": 3,
     "metadata": {},
     "output_type": "execute_result"
    }
   ],
   "source": [
    "rail = pd.read_excel('../data/interim/rail_london.xlsx', sheet_name='stations',\n",
    "                     index_col='id')\n",
    "rail.head()"
   ]
  },
  {
   "cell_type": "markdown",
   "metadata": {},
   "source": [
    "Not all of the columns in the dataset are needed for the analysis (e.g. some of them are used in Excel to group data), so they will be removed."
   ]
  },
  {
   "cell_type": "code",
   "execution_count": 4,
   "metadata": {},
   "outputs": [],
   "source": [
    "# Remove unnecessary cols\n",
    "rail.drop(columns=['id_constructor_preid', 'id_constructor_prime',\n",
    "                   'id_constructor_group', 'id_constructor_pref'],\n",
    "          inplace=True)"
   ]
  },
  {
   "cell_type": "code",
   "execution_count": 5,
   "metadata": {},
   "outputs": [
    {
     "data": {
      "text/plain": [
       "urn            int64\n",
       "station       object\n",
       "latitude     float64\n",
       "longitude    float64\n",
       "zone          object\n",
       "postcode      object\n",
       "comment       object\n",
       "open            bool\n",
       "dtype: object"
      ]
     },
     "execution_count": 5,
     "metadata": {},
     "output_type": "execute_result"
    }
   ],
   "source": [
    "rail.dtypes"
   ]
  },
  {
   "cell_type": "code",
   "execution_count": 6,
   "metadata": {},
   "outputs": [
    {
     "data": {
      "text/plain": [
       "(616, 8)"
      ]
     },
     "execution_count": 6,
     "metadata": {},
     "output_type": "execute_result"
    }
   ],
   "source": [
    "rail.shape"
   ]
  },
  {
   "cell_type": "markdown",
   "metadata": {},
   "source": [
    "## Sights dataset"
   ]
  },
  {
   "cell_type": "markdown",
   "metadata": {},
   "source": [
    "There are 21 sights in the dataset.  I examined the top 45 'attractions' in London but did not include types of attractions as they are not fixed locations.  For example, 'Game & Entertainment Centres' is ranked 44th for things to do in London, so that is not in the dataset."
   ]
  },
  {
   "cell_type": "markdown",
   "metadata": {},
   "source": [
    "![TripAdvisor top attractions in London](img/top-london-attractions.jpg)"
   ]
  },
  {
   "cell_type": "code",
   "execution_count": 7,
   "metadata": {},
   "outputs": [
    {
     "data": {
      "text/html": [
       "<div>\n",
       "<style scoped>\n",
       "    .dataframe tbody tr th:only-of-type {\n",
       "        vertical-align: middle;\n",
       "    }\n",
       "\n",
       "    .dataframe tbody tr th {\n",
       "        vertical-align: top;\n",
       "    }\n",
       "\n",
       "    .dataframe thead th {\n",
       "        text-align: right;\n",
       "    }\n",
       "</style>\n",
       "<table border=\"1\" class=\"dataframe\">\n",
       "  <thead>\n",
       "    <tr style=\"text-align: right;\">\n",
       "      <th></th>\n",
       "      <th>attraction</th>\n",
       "      <th>latitude</th>\n",
       "      <th>longitude</th>\n",
       "      <th>duration_hr_min</th>\n",
       "      <th>duration_hr_max</th>\n",
       "      <th>duration_minute_min</th>\n",
       "      <th>duration_minute_max</th>\n",
       "    </tr>\n",
       "    <tr>\n",
       "      <th>rank</th>\n",
       "      <th></th>\n",
       "      <th></th>\n",
       "      <th></th>\n",
       "      <th></th>\n",
       "      <th></th>\n",
       "      <th></th>\n",
       "      <th></th>\n",
       "    </tr>\n",
       "  </thead>\n",
       "  <tbody>\n",
       "    <tr>\n",
       "      <th>1</th>\n",
       "      <td>National Gallery</td>\n",
       "      <td>51.508929</td>\n",
       "      <td>-0.128299</td>\n",
       "      <td>2.0</td>\n",
       "      <td>3.0</td>\n",
       "      <td>120.0</td>\n",
       "      <td>180.0</td>\n",
       "    </tr>\n",
       "    <tr>\n",
       "      <th>2</th>\n",
       "      <td>Churchill War Rooms</td>\n",
       "      <td>51.502159</td>\n",
       "      <td>-0.129357</td>\n",
       "      <td>NaN</td>\n",
       "      <td>NaN</td>\n",
       "      <td>NaN</td>\n",
       "      <td>NaN</td>\n",
       "    </tr>\n",
       "    <tr>\n",
       "      <th>3</th>\n",
       "      <td>The British Museum</td>\n",
       "      <td>51.519413</td>\n",
       "      <td>-0.126957</td>\n",
       "      <td>2.0</td>\n",
       "      <td>3.0</td>\n",
       "      <td>120.0</td>\n",
       "      <td>180.0</td>\n",
       "    </tr>\n",
       "    <tr>\n",
       "      <th>4</th>\n",
       "      <td>St. James's Park</td>\n",
       "      <td>51.501667</td>\n",
       "      <td>-0.131944</td>\n",
       "      <td>1.0</td>\n",
       "      <td>2.0</td>\n",
       "      <td>60.0</td>\n",
       "      <td>120.0</td>\n",
       "    </tr>\n",
       "    <tr>\n",
       "      <th>5</th>\n",
       "      <td>V&amp;A - Victoria and Albert Museum</td>\n",
       "      <td>51.496639</td>\n",
       "      <td>-0.172180</td>\n",
       "      <td>2.0</td>\n",
       "      <td>3.0</td>\n",
       "      <td>120.0</td>\n",
       "      <td>180.0</td>\n",
       "    </tr>\n",
       "  </tbody>\n",
       "</table>\n",
       "</div>"
      ],
      "text/plain": [
       "                            attraction   latitude  longitude  duration_hr_min  \\\n",
       "rank                                                                            \n",
       "1                     National Gallery  51.508929  -0.128299              2.0   \n",
       "2                  Churchill War Rooms  51.502159  -0.129357              NaN   \n",
       "3                   The British Museum  51.519413  -0.126957              2.0   \n",
       "4                     St. James's Park  51.501667  -0.131944              1.0   \n",
       "5     V&A - Victoria and Albert Museum  51.496639  -0.172180              2.0   \n",
       "\n",
       "      duration_hr_max  duration_minute_min  duration_minute_max  \n",
       "rank                                                             \n",
       "1                 3.0                120.0                180.0  \n",
       "2                 NaN                  NaN                  NaN  \n",
       "3                 3.0                120.0                180.0  \n",
       "4                 2.0                 60.0                120.0  \n",
       "5                 3.0                120.0                180.0  "
      ]
     },
     "execution_count": 7,
     "metadata": {},
     "output_type": "execute_result"
    }
   ],
   "source": [
    "sights = pd.read_excel('../data/interim/tripadvisor_london.xlsx', index_col='rank')\n",
    "sights.head()"
   ]
  },
  {
   "cell_type": "markdown",
   "metadata": {},
   "source": [
    "TripAdvisor lists the recommended time to visit for some attractions in an interval format: e.g. 2–3 hours or 1–2 hours.  I have used the columns `duration_hr_min` and `duration_hr_max` to represent the lower and upper bounds (in hours)."
   ]
  },
  {
   "cell_type": "code",
   "execution_count": 8,
   "metadata": {},
   "outputs": [],
   "source": [
    "# Filter out missing lat-long data:\n",
    "sights.dropna(subset=['latitude', 'longitude'], how='any', inplace=True)"
   ]
  },
  {
   "cell_type": "code",
   "execution_count": 9,
   "metadata": {},
   "outputs": [
    {
     "data": {
      "text/plain": [
       "attraction              object\n",
       "latitude               float64\n",
       "longitude              float64\n",
       "duration_hr_min        float64\n",
       "duration_hr_max        float64\n",
       "duration_minute_min    float64\n",
       "duration_minute_max    float64\n",
       "dtype: object"
      ]
     },
     "execution_count": 9,
     "metadata": {},
     "output_type": "execute_result"
    }
   ],
   "source": [
    "sights.dtypes"
   ]
  },
  {
   "cell_type": "code",
   "execution_count": 10,
   "metadata": {},
   "outputs": [
    {
     "data": {
      "text/plain": [
       "(21, 7)"
      ]
     },
     "execution_count": 10,
     "metadata": {},
     "output_type": "execute_result"
    }
   ],
   "source": [
    "sights.shape"
   ]
  },
  {
   "cell_type": "markdown",
   "metadata": {},
   "source": [
    "# Nearest station to attractions"
   ]
  },
  {
   "cell_type": "markdown",
   "metadata": {},
   "source": [
    "**First aim of the project:** Find the nearest rail station for London's top attractions and calculate how close the attractions are to each station.\n",
    "\n",
    "In essence, the primary problem is a 'nearest neighbours' problem and the secondary problem involves applied trigonometry.\n",
    "\n",
    "The rationale for tackling this aim first is to get more context on the attractions before approaching the travel planning problem, which is an unsupervised learning problem."
   ]
  },
  {
   "cell_type": "markdown",
   "metadata": {},
   "source": [
    "## Setup"
   ]
  },
  {
   "cell_type": "markdown",
   "metadata": {},
   "source": [
    "There are 21 attractions that need a 'nearest station' calculated from over 600 stations.\n",
    "\n",
    "In order to work out the nearest neighbour efficiently for the data, a **KD Tree** can be set up for the station geodata."
   ]
  },
  {
   "cell_type": "code",
   "execution_count": 11,
   "metadata": {},
   "outputs": [
    {
     "data": {
      "text/plain": [
       "(616, 2)"
      ]
     },
     "execution_count": 11,
     "metadata": {},
     "output_type": "execute_result"
    }
   ],
   "source": [
    "# Set up KD Tree object\n",
    "rail_tree = sp.spatial.KDTree(np.array(rail[['latitude',\n",
    "                                             'longitude']]))\n",
    "\n",
    "# KD Tree data is in array form\n",
    "rail_tree.data.shape  # shape (n, 2), where n is number of stations"
   ]
  },
  {
   "cell_type": "markdown",
   "metadata": {},
   "source": [
    "The attraction geodata can then be queried on the tree."
   ]
  },
  {
   "cell_type": "code",
   "execution_count": 12,
   "metadata": {},
   "outputs": [
    {
     "data": {
      "text/plain": [
       "array([[51.508929 , -0.128299 ],\n",
       "       [51.5021585, -0.1293572],\n",
       "       [51.5194133, -0.1269566],\n",
       "       [51.501667 , -0.131944 ],\n",
       "       [51.4966392, -0.17218  ]])"
      ]
     },
     "execution_count": 12,
     "metadata": {},
     "output_type": "execute_result"
    }
   ],
   "source": [
    "# Create array of lat-long pairs for each sight\n",
    "sight_geo_pairs = np.array(sights[['latitude', 'longitude']])\n",
    "\n",
    "sight_geo_pairs[:5]  # display first 5"
   ]
  },
  {
   "cell_type": "code",
   "execution_count": 13,
   "metadata": {},
   "outputs": [],
   "source": [
    "# Query the nearest neighbours of the tree and store info in arrays\n",
    "nn_dist, nn_id = rail_tree.query(sight_geo_pairs, p=2)  # Euclidean distance"
   ]
  },
  {
   "cell_type": "markdown",
   "metadata": {},
   "source": [
    "The tree query returns two arrays:\n",
    "* `nn_dist`: Euclidean distance between the attraction queried and the nearest station.\n",
    "* `nn_id`: numerical identifier stored in the tree for the nearest station.\n",
    "\n",
    "The **Euclidean distance** is the distance 'as the crow flies' between two points.  It is the most practical distance we can use for nearest neighbour calculations, as there is not any street-map data available for this project, which would be of use for obtaining actual walking distances."
   ]
  },
  {
   "cell_type": "code",
   "execution_count": 14,
   "metadata": {},
   "outputs": [
    {
     "data": {
      "text/plain": [
       "array([0.00236287, 0.00442041, 0.0043079 , 0.00282407, 0.00310353])"
      ]
     },
     "execution_count": 14,
     "metadata": {},
     "output_type": "execute_result"
    }
   ],
   "source": [
    "nn_dist[:5]  # first 5 Euclidean distances"
   ]
  },
  {
   "cell_type": "code",
   "execution_count": 15,
   "metadata": {},
   "outputs": [
    {
     "data": {
      "text/plain": [
       "array([387, 408, 398, 402, 400])"
      ]
     },
     "execution_count": 15,
     "metadata": {},
     "output_type": "execute_result"
    }
   ],
   "source": [
    "nn_id[:5]  # first 5 identifiers (numerical order of station in tree data)"
   ]
  },
  {
   "cell_type": "markdown",
   "metadata": {},
   "source": [
    "## Nearest neighbour calculations"
   ]
  },
  {
   "cell_type": "markdown",
   "metadata": {},
   "source": [
    "With the arrays returned by the query, it is not much work now to obtain the name of the nearest station for each attraction.\n",
    "\n",
    "The tree identifiers match up to the row numbers of the `rail` dataset, so slicing the series of station names by the `nn_id` array returns the names of the nearest stations."
   ]
  },
  {
   "cell_type": "code",
   "execution_count": 16,
   "metadata": {},
   "outputs": [
    {
     "data": {
      "text/plain": [
       "array(['Leicester Square', 'Westminster', 'Russell Square',\n",
       "       \"St. James's Park\", 'South Kensington'], dtype=object)"
      ]
     },
     "execution_count": 16,
     "metadata": {},
     "output_type": "execute_result"
    }
   ],
   "source": [
    "# Slice station series to return the station names\n",
    "rail['station'].iloc[nn_id].values[:5]"
   ]
  },
  {
   "cell_type": "markdown",
   "metadata": {},
   "source": [
    "'387', the first value in `nn_id`, is the numerical position in the tree for the nearest station to London's top attraction.\n",
    "\n",
    "By accessing that row of the `rail` dataframe, we can see that Leicester Square is the nearest station by Euclidean distance, according to the geodata."
   ]
  },
  {
   "cell_type": "code",
   "execution_count": 17,
   "metadata": {},
   "outputs": [
    {
     "data": {
      "text/plain": [
       "urn                       316\n",
       "station      Leicester Square\n",
       "latitude              51.5113\n",
       "longitude           -0.128242\n",
       "zone                        1\n",
       "postcode             WC2H 0AP\n",
       "comment                   NaN\n",
       "open                     True\n",
       "Name: 71027, dtype: object"
      ]
     },
     "execution_count": 17,
     "metadata": {},
     "output_type": "execute_result"
    }
   ],
   "source": [
    "rail.iloc[387]"
   ]
  },
  {
   "cell_type": "markdown",
   "metadata": {},
   "source": [
    "Now that we can see the first example in action, it's time to find the nearest stations for all of the attractions in the dataset.\n",
    "\n",
    "The nearest station to the Churchill War Rooms according to the data is Westminster station, while the nearest station to the Victoria & Albert Museum is South Kensington station."
   ]
  },
  {
   "cell_type": "code",
   "execution_count": 18,
   "metadata": {},
   "outputs": [
    {
     "data": {
      "text/html": [
       "<div>\n",
       "<style scoped>\n",
       "    .dataframe tbody tr th:only-of-type {\n",
       "        vertical-align: middle;\n",
       "    }\n",
       "\n",
       "    .dataframe tbody tr th {\n",
       "        vertical-align: top;\n",
       "    }\n",
       "\n",
       "    .dataframe thead th {\n",
       "        text-align: right;\n",
       "    }\n",
       "</style>\n",
       "<table border=\"1\" class=\"dataframe\">\n",
       "  <thead>\n",
       "    <tr style=\"text-align: right;\">\n",
       "      <th></th>\n",
       "      <th>attraction</th>\n",
       "      <th>nearest_station</th>\n",
       "    </tr>\n",
       "    <tr>\n",
       "      <th>rank</th>\n",
       "      <th></th>\n",
       "      <th></th>\n",
       "    </tr>\n",
       "  </thead>\n",
       "  <tbody>\n",
       "    <tr>\n",
       "      <th>1</th>\n",
       "      <td>National Gallery</td>\n",
       "      <td>Leicester Square</td>\n",
       "    </tr>\n",
       "    <tr>\n",
       "      <th>2</th>\n",
       "      <td>Churchill War Rooms</td>\n",
       "      <td>Westminster</td>\n",
       "    </tr>\n",
       "    <tr>\n",
       "      <th>3</th>\n",
       "      <td>The British Museum</td>\n",
       "      <td>Russell Square</td>\n",
       "    </tr>\n",
       "    <tr>\n",
       "      <th>4</th>\n",
       "      <td>St. James's Park</td>\n",
       "      <td>St. James's Park</td>\n",
       "    </tr>\n",
       "    <tr>\n",
       "      <th>5</th>\n",
       "      <td>V&amp;A - Victoria and Albert Museum</td>\n",
       "      <td>South Kensington</td>\n",
       "    </tr>\n",
       "  </tbody>\n",
       "</table>\n",
       "</div>"
      ],
      "text/plain": [
       "                            attraction   nearest_station\n",
       "rank                                                    \n",
       "1                     National Gallery  Leicester Square\n",
       "2                  Churchill War Rooms       Westminster\n",
       "3                   The British Museum    Russell Square\n",
       "4                     St. James's Park  St. James's Park\n",
       "5     V&A - Victoria and Albert Museum  South Kensington"
      ]
     },
     "execution_count": 18,
     "metadata": {},
     "output_type": "execute_result"
    }
   ],
   "source": [
    "# Create a new column in sights df for nearest station\n",
    "sights['nearest_station'] = rail['station'].iloc[nn_id].values\n",
    "\n",
    "# Display the nearest station for the top 5 attractions\n",
    "sights[['attraction', 'nearest_station']].head()"
   ]
  },
  {
   "cell_type": "markdown",
   "metadata": {},
   "source": [
    "**The Euclidean distances so far are not easy to interpret and do not account for the Earth's surface.**\n",
    "\n",
    "We cannot find out the distance in miles, for example, from the distances already calculated.\n",
    "\n",
    "**We need to have the lat-long pairs of both points, which form a line, in order to calculate the miles between them (via the haversine formula).**  Therefore we must store all four pieces of information in order to calculate those distances.\n",
    "\n",
    "The lat-long pairs for nearest neighbour analysis are going to be stored in these arrays:\n",
    "* `sight_geo_pairs`: lat-long pairs for each attraction\n",
    "* `station_geo_pairs`: lat-long pairs for each nearest neighbour station\n",
    "\n",
    "The two together can then be concatenated and passed through a function, which will make it easier to create a feature that stores the distance later on."
   ]
  },
  {
   "cell_type": "code",
   "execution_count": 19,
   "metadata": {},
   "outputs": [
    {
     "data": {
      "text/plain": [
       "array([[51.51129118, -0.12824215],\n",
       "       [51.50140159, -0.12500208],\n",
       "       [51.52301304, -0.1245902 ],\n",
       "       [51.49960979, -0.13387876],\n",
       "       [51.49407137, -0.17392302]])"
      ]
     },
     "execution_count": 19,
     "metadata": {},
     "output_type": "execute_result"
    }
   ],
   "source": [
    "station_geo_pairs = rail[['latitude', 'longitude']].iloc[nn_id].values\n",
    "station_geo_pairs[:5]"
   ]
  },
  {
   "cell_type": "markdown",
   "metadata": {},
   "source": [
    "## Distance calculations"
   ]
  },
  {
   "cell_type": "markdown",
   "metadata": {},
   "source": [
    "The **haversine formula** applies trigonometry on a sphere to calculate the distance between two points on a sphere.  It can be used to give an approximate (Euclidean) distance between two points on Earth."
   ]
  },
  {
   "cell_type": "code",
   "execution_count": 20,
   "metadata": {},
   "outputs": [],
   "source": [
    "def haversine(lat1, lon1, lat2, lon2, unit='miles'):\n",
    "    \"\"\"\n",
    "    Calculate the haversine distance between two pairs of (lat, long) points.\n",
    "    Units: 'miles' (default) or 'feet'.\n",
    "    \n",
    "    \"\"\"\n",
    "    R = 3959.87433  # Earth radius (miles).  Equivalent to 6372.8 km.\n",
    "    \n",
    "    # Convert points and distances to radians\n",
    "    delta_lat = radians(lat2 - lat1)\n",
    "    delta_lon = radians(lon2 - lon1)\n",
    "    lat1 = radians(lat1)\n",
    "    lat2 = radians(lat2)\n",
    "    \n",
    "    a = sin(delta_lat / 2) ** 2 + cos(lat1) * cos(lat2) * sin(delta_lon / 2) ** 2\n",
    "    c = 2 * asin(sqrt(a))\n",
    "    \n",
    "    if unit == 'feet':\n",
    "        return int(R * c * 5280)  # 1 mile is 5280 ft ; return integer\n",
    "    else:\n",
    "        unit = 'miles'  # force 'miles' for any other argument\n",
    "        return R * c"
   ]
  },
  {
   "cell_type": "markdown",
   "metadata": {},
   "source": [
    "This `matcher` function is used to assist with doing a lookup of the values of a series in one dataframe against columns in another dataframe (to avoid even clunkier code for filtering and creating dataframes!)."
   ]
  },
  {
   "cell_type": "code",
   "execution_count": 21,
   "metadata": {},
   "outputs": [],
   "source": [
    "def matcher(left_lookup_vals_series, right_df, return_cols, left_right_on, concat_matches=False):\n",
    "    \"\"\"\n",
    "    Lookup the values of a series against the column(s) of another dataframe.\n",
    "    \n",
    "    Inspired by Excel's MATCH function.\n",
    "    \n",
    "    Required argument(s):\n",
    "    `left_lookup_vals_series`:  pd.Series of values to look up in `right_df`\n",
    "    `right_df`:                 pd.DataFrame that contains columns to search for lookup\n",
    "    `return_cols`:              list of columns to search in `right_df`\n",
    "    `left_right_on`:            dict of one key–value pair for joining left & right objects:\n",
    "                                    {`left_lookup_vals_series` col: `right_df` col}\n",
    "    Optional argument(s):\n",
    "    `concat_matches`:           True to return `left_lookup_val_series` to col matches\n",
    "                                    (Default value is False) \n",
    "    \n",
    "    Returns:\n",
    "    pd.DataFrame where:\n",
    "        - Columns are `return_cols` (and `left_lookup_vals_series` if `concat_matches`)\n",
    "        - Indices are `left_lookup_vals_series` indices\n",
    "        - Values are the lookup matches\n",
    "    \"\"\"\n",
    "    # Retrieve 'left series' col and `right_df` col for doing merge\n",
    "    left_on_col = list(left_right_on.keys())[0]  # first key of dict\n",
    "    right_on_col = list(left_right_on.values())[0]  # first value of dict\n",
    "    \n",
    "    # Create list of columns:\n",
    "    right_cols_subset = [right_on_col]  # 'on' col as first item\n",
    "    right_cols_subset.extend(return_cols)  # add return_cols to list\n",
    "    \n",
    "    # Create initial dataframe of lookup\n",
    "    # Notes:\n",
    "    # - `left_lookup_values_series` is passed to DataFrame so that merge can be used\n",
    "    # - The 'left_on' and 'right_on' cols are used for join and dropped\n",
    "    matches_df = pd.DataFrame(left_lookup_vals_series)\\\n",
    "        .merge(right_df[right_cols_subset], how='left',\n",
    "               left_on=left_on_col, right_on=right_on_col)\\\n",
    "        .drop(columns=[left_on_col, right_on_col])\n",
    "    \n",
    "    # Dataframe has `return_cols` for cols & `left_lookup_vals_series` indices at this point\n",
    "    \n",
    "    # Ensure that returned dataframe retains the indices of 'left series'\n",
    "    indices = left_lookup_vals_series.index\n",
    "    matches_df.index = indices\n",
    "    \n",
    "    if concat_matches:\n",
    "        # [-left_lookup_col-] + [-matches_df_cols-]\n",
    "        return pd.concat([left_lookup_vals_series, matches_df], axis=1)\n",
    "    else:\n",
    "        return matches_df"
   ]
  },
  {
   "cell_type": "markdown",
   "metadata": {},
   "source": [
    "**Before calculating distances, let's get some more context on the geodata for the nearest stations for the top 5 attractions.**  Notice in the table below that each attraction has a different station as its nearest station.\n",
    "\n",
    "Note: the function is used here to retrieve geodata from `rail` dataframe, via a lookup of values in `sights['nearest_station']`."
   ]
  },
  {
   "cell_type": "code",
   "execution_count": 22,
   "metadata": {},
   "outputs": [
    {
     "data": {
      "text/html": [
       "<div>\n",
       "<style scoped>\n",
       "    .dataframe tbody tr th:only-of-type {\n",
       "        vertical-align: middle;\n",
       "    }\n",
       "\n",
       "    .dataframe tbody tr th {\n",
       "        vertical-align: top;\n",
       "    }\n",
       "\n",
       "    .dataframe thead th {\n",
       "        text-align: right;\n",
       "    }\n",
       "</style>\n",
       "<table border=\"1\" class=\"dataframe\">\n",
       "  <thead>\n",
       "    <tr style=\"text-align: right;\">\n",
       "      <th></th>\n",
       "      <th>nearest_station</th>\n",
       "      <th>latitude</th>\n",
       "      <th>longitude</th>\n",
       "      <th>postcode</th>\n",
       "    </tr>\n",
       "    <tr>\n",
       "      <th>rank</th>\n",
       "      <th></th>\n",
       "      <th></th>\n",
       "      <th></th>\n",
       "      <th></th>\n",
       "    </tr>\n",
       "  </thead>\n",
       "  <tbody>\n",
       "    <tr>\n",
       "      <th>1</th>\n",
       "      <td>Leicester Square</td>\n",
       "      <td>51.511291</td>\n",
       "      <td>-0.128242</td>\n",
       "      <td>WC2H 0AP</td>\n",
       "    </tr>\n",
       "    <tr>\n",
       "      <th>2</th>\n",
       "      <td>Westminster</td>\n",
       "      <td>51.501402</td>\n",
       "      <td>-0.125002</td>\n",
       "      <td>SW1A 2JR</td>\n",
       "    </tr>\n",
       "    <tr>\n",
       "      <th>3</th>\n",
       "      <td>Russell Square</td>\n",
       "      <td>51.523013</td>\n",
       "      <td>-0.124590</td>\n",
       "      <td>WC1N 1LG</td>\n",
       "    </tr>\n",
       "    <tr>\n",
       "      <th>4</th>\n",
       "      <td>St. James's Park</td>\n",
       "      <td>51.499610</td>\n",
       "      <td>-0.133879</td>\n",
       "      <td>SW1H 0BD</td>\n",
       "    </tr>\n",
       "    <tr>\n",
       "      <th>5</th>\n",
       "      <td>South Kensington</td>\n",
       "      <td>51.494071</td>\n",
       "      <td>-0.173923</td>\n",
       "      <td>SW7 2NB</td>\n",
       "    </tr>\n",
       "  </tbody>\n",
       "</table>\n",
       "</div>"
      ],
      "text/plain": [
       "       nearest_station   latitude  longitude  postcode\n",
       "rank                                                  \n",
       "1     Leicester Square  51.511291  -0.128242  WC2H 0AP\n",
       "2          Westminster  51.501402  -0.125002  SW1A 2JR\n",
       "3       Russell Square  51.523013  -0.124590  WC1N 1LG\n",
       "4     St. James's Park  51.499610  -0.133879  SW1H 0BD\n",
       "5     South Kensington  51.494071  -0.173923   SW7 2NB"
      ]
     },
     "execution_count": 22,
     "metadata": {},
     "output_type": "execute_result"
    }
   ],
   "source": [
    "matcher(sights['nearest_station'], rail, ['latitude', 'longitude', 'postcode'],\n",
    "        {'nearest_station': 'station'},\n",
    "        concat_matches=True).head()"
   ]
  },
  {
   "cell_type": "markdown",
   "metadata": {},
   "source": [
    "Earlier in the notebook there is a note about the need for two pairs of co-ordinates to be collected together in order to calculate the haversine distance.\n",
    "\n",
    "These co-ordinates will be collected in a Numpy array by concatenating the (lat, long) pairs.\n",
    "\n",
    "The cell below shows the collected (lat, long) pairs for the top 5 attractions."
   ]
  },
  {
   "cell_type": "code",
   "execution_count": 23,
   "metadata": {},
   "outputs": [
    {
     "data": {
      "text/plain": [
       "array([[51.508929  , -0.128299  , 51.51129118, -0.12824215],\n",
       "       [51.5021585 , -0.1293572 , 51.50140159, -0.12500208],\n",
       "       [51.5194133 , -0.1269566 , 51.52301304, -0.1245902 ],\n",
       "       [51.501667  , -0.131944  , 51.49960979, -0.13387876],\n",
       "       [51.4966392 , -0.17218   , 51.49407137, -0.17392302]])"
      ]
     },
     "execution_count": 23,
     "metadata": {},
     "output_type": "execute_result"
    }
   ],
   "source": [
    "np.concatenate([sight_geo_pairs, station_geo_pairs], axis=1)[:5]"
   ]
  },
  {
   "cell_type": "markdown",
   "metadata": {},
   "source": [
    "With that format, a distance in imperial units can be calculated for each row of the Numpy array.\n",
    "\n",
    "The elements are unpacked and passed to the haversine function."
   ]
  },
  {
   "cell_type": "code",
   "execution_count": 24,
   "metadata": {},
   "outputs": [],
   "source": [
    "# Create a col for the distance\n",
    "# For each attraction, the two geo pairs are passed to the haversine function to obtain a value\n",
    "sights['nearest_station_miles'] = [haversine(*four_coords) for four_coords\n",
    "                                  in np.concatenate([sight_geo_pairs, station_geo_pairs], axis=1)]"
   ]
  },
  {
   "cell_type": "markdown",
   "metadata": {},
   "source": [
    "As can be seen below, each of the top 5 attractions is approximately 0.2 miles away from its nearest station (as the crow flies)."
   ]
  },
  {
   "cell_type": "code",
   "execution_count": 25,
   "metadata": {},
   "outputs": [
    {
     "data": {
      "text/html": [
       "<div>\n",
       "<style scoped>\n",
       "    .dataframe tbody tr th:only-of-type {\n",
       "        vertical-align: middle;\n",
       "    }\n",
       "\n",
       "    .dataframe tbody tr th {\n",
       "        vertical-align: top;\n",
       "    }\n",
       "\n",
       "    .dataframe thead th {\n",
       "        text-align: right;\n",
       "    }\n",
       "</style>\n",
       "<table border=\"1\" class=\"dataframe\">\n",
       "  <thead>\n",
       "    <tr style=\"text-align: right;\">\n",
       "      <th></th>\n",
       "      <th>attraction</th>\n",
       "      <th>nearest_station</th>\n",
       "      <th>nearest_station_miles</th>\n",
       "    </tr>\n",
       "    <tr>\n",
       "      <th>rank</th>\n",
       "      <th></th>\n",
       "      <th></th>\n",
       "      <th></th>\n",
       "    </tr>\n",
       "  </thead>\n",
       "  <tbody>\n",
       "    <tr>\n",
       "      <th>1</th>\n",
       "      <td>National Gallery</td>\n",
       "      <td>Leicester Square</td>\n",
       "      <td>0.163275</td>\n",
       "    </tr>\n",
       "    <tr>\n",
       "      <th>2</th>\n",
       "      <td>Churchill War Rooms</td>\n",
       "      <td>Westminster</td>\n",
       "      <td>0.194532</td>\n",
       "    </tr>\n",
       "    <tr>\n",
       "      <th>3</th>\n",
       "      <td>The British Museum</td>\n",
       "      <td>Russell Square</td>\n",
       "      <td>0.268796</td>\n",
       "    </tr>\n",
       "    <tr>\n",
       "      <th>4</th>\n",
       "      <td>St. James's Park</td>\n",
       "      <td>St. James's Park</td>\n",
       "      <td>0.164754</td>\n",
       "    </tr>\n",
       "    <tr>\n",
       "      <th>5</th>\n",
       "      <td>V&amp;A - Victoria and Albert Museum</td>\n",
       "      <td>South Kensington</td>\n",
       "      <td>0.192667</td>\n",
       "    </tr>\n",
       "  </tbody>\n",
       "</table>\n",
       "</div>"
      ],
      "text/plain": [
       "                            attraction   nearest_station  \\\n",
       "rank                                                       \n",
       "1                     National Gallery  Leicester Square   \n",
       "2                  Churchill War Rooms       Westminster   \n",
       "3                   The British Museum    Russell Square   \n",
       "4                     St. James's Park  St. James's Park   \n",
       "5     V&A - Victoria and Albert Museum  South Kensington   \n",
       "\n",
       "      nearest_station_miles  \n",
       "rank                         \n",
       "1                  0.163275  \n",
       "2                  0.194532  \n",
       "3                  0.268796  \n",
       "4                  0.164754  \n",
       "5                  0.192667  "
      ]
     },
     "execution_count": 25,
     "metadata": {},
     "output_type": "execute_result"
    }
   ],
   "source": [
    "sights[['attraction', 'nearest_station', 'nearest_station_miles']].head()"
   ]
  },
  {
   "cell_type": "markdown",
   "metadata": {},
   "source": [
    "There are some attractions that are within 500 feet of the nearest station.\n",
    "\n",
    "For example, The View from the Shard is the attraction with the shortest distance from a station.  It is adjacent to London Bridge station."
   ]
  },
  {
   "cell_type": "code",
   "execution_count": 26,
   "metadata": {},
   "outputs": [
    {
     "data": {
      "text/html": [
       "<div>\n",
       "<style scoped>\n",
       "    .dataframe tbody tr th:only-of-type {\n",
       "        vertical-align: middle;\n",
       "    }\n",
       "\n",
       "    .dataframe tbody tr th {\n",
       "        vertical-align: top;\n",
       "    }\n",
       "\n",
       "    .dataframe thead th {\n",
       "        text-align: right;\n",
       "    }\n",
       "</style>\n",
       "<table border=\"1\" class=\"dataframe\">\n",
       "  <thead>\n",
       "    <tr style=\"text-align: right;\">\n",
       "      <th></th>\n",
       "      <th>attraction</th>\n",
       "      <th>nearest_station</th>\n",
       "      <th>nearest_station_miles</th>\n",
       "    </tr>\n",
       "    <tr>\n",
       "      <th>rank</th>\n",
       "      <th></th>\n",
       "      <th></th>\n",
       "      <th></th>\n",
       "    </tr>\n",
       "  </thead>\n",
       "  <tbody>\n",
       "    <tr>\n",
       "      <th>17</th>\n",
       "      <td>The View from The Shard</td>\n",
       "      <td>London Bridge</td>\n",
       "      <td>0.029448</td>\n",
       "    </tr>\n",
       "    <tr>\n",
       "      <th>21</th>\n",
       "      <td>Big Ben</td>\n",
       "      <td>Westminster</td>\n",
       "      <td>0.049216</td>\n",
       "    </tr>\n",
       "    <tr>\n",
       "      <th>14</th>\n",
       "      <td>St. Paul's Cathedral</td>\n",
       "      <td>St. Paul's</td>\n",
       "      <td>0.076196</td>\n",
       "    </tr>\n",
       "    <tr>\n",
       "      <th>16</th>\n",
       "      <td>Covent Garden</td>\n",
       "      <td>Covent Garden</td>\n",
       "      <td>0.088292</td>\n",
       "    </tr>\n",
       "    <tr>\n",
       "      <th>6</th>\n",
       "      <td>Houses of Parliament</td>\n",
       "      <td>Westminster</td>\n",
       "      <td>0.133093</td>\n",
       "    </tr>\n",
       "  </tbody>\n",
       "</table>\n",
       "</div>"
      ],
      "text/plain": [
       "                   attraction nearest_station  nearest_station_miles\n",
       "rank                                                                \n",
       "17    The View from The Shard   London Bridge               0.029448\n",
       "21                    Big Ben     Westminster               0.049216\n",
       "14       St. Paul's Cathedral      St. Paul's               0.076196\n",
       "16              Covent Garden   Covent Garden               0.088292\n",
       "6        Houses of Parliament     Westminster               0.133093"
      ]
     },
     "execution_count": 26,
     "metadata": {},
     "output_type": "execute_result"
    }
   ],
   "source": [
    "sights[['attraction', 'nearest_station', 'nearest_station_miles']]\\\n",
    "    .sort_values('nearest_station_miles').head()"
   ]
  },
  {
   "cell_type": "markdown",
   "metadata": {},
   "source": [
    "# Itinerary planning with HDBSCAN"
   ]
  },
  {
   "cell_type": "markdown",
   "metadata": {},
   "source": [
    "**Second aim of the project:** Group together London's top attractions and use the groupings for itinerary planning (e.g. spend one day for attractions in one group, another day for attractions in a second group, etc.).\n",
    "\n",
    "Even from the nearest neighbour analysis, it would be clear to people who know their London stations that the top 5 London attractions are not located near each other.  A metropolis like London has its main attractions spread over a wide area, so it would take many days to cover the top 20 attractions listed on TripAdvisor.  Once you have so many attractions in mind, it becomes harder to develop an itinerary, especially if you know little about the destination.\n",
    "\n",
    "A **density-based clustering algorithm** seems the most appropriate way to cluster the attractions for travel planning.  In ideal terms, we would prefer to have fairly dense clusters, as there would be a greater choice of attractions to include in an itinerary.  We also want to penalise attractions that are relatively far away from the other attractions in the dataset.\n",
    "\n",
    "I will use the **HDBSCAN algorithm** as its ability to account for density makes it promising for examining geodata.  HDBSCAN is an extension of the DBSCAN algorithm.  I have chosen HDBSCAN because its `min_cluster_size` parameter is intuitive for the clustering we want to do and it can also produce clusters of differing densities."
   ]
  },
  {
   "cell_type": "markdown",
   "metadata": {},
   "source": [
    "## Clustering setup"
   ]
  },
  {
   "cell_type": "markdown",
   "metadata": {},
   "source": [
    "Create `df_plan`, a copy of the `sights` dataframe, for more specific analysis to help with itinerary planning."
   ]
  },
  {
   "cell_type": "code",
   "execution_count": 27,
   "metadata": {},
   "outputs": [],
   "source": [
    "df_plan = sights.copy()"
   ]
  },
  {
   "cell_type": "markdown",
   "metadata": {},
   "source": [
    "The TripAdvisor data on recommended duration for visiting attractions is over an interval period, e.g. 2–3 hours.\n",
    "\n",
    "Let's create a midpoint `duration_hr_mid`, e.g. 2.5 hours, to represent the average case for each attraction."
   ]
  },
  {
   "cell_type": "code",
   "execution_count": 28,
   "metadata": {},
   "outputs": [],
   "source": [
    "df_plan['duration_hr_mid'] = 0.5 * (df_plan['duration_hr_max'] + df_plan['duration_hr_min'])"
   ]
  },
  {
   "cell_type": "code",
   "execution_count": 29,
   "metadata": {},
   "outputs": [
    {
     "data": {
      "text/plain": [
       " 2.5    7\n",
       " 1.5    6\n",
       "NaN     6\n",
       " 0.5    1\n",
       " 3.5    1\n",
       "Name: duration_hr_mid, dtype: int64"
      ]
     },
     "execution_count": 29,
     "metadata": {},
     "output_type": "execute_result"
    }
   ],
   "source": [
    "df_plan['duration_hr_mid'].value_counts(dropna=False)"
   ]
  },
  {
   "cell_type": "markdown",
   "metadata": {},
   "source": [
    "Notice that there are some attractions that do not have a recommended visit duration.  Let's assign the average across the attractions to those null values."
   ]
  },
  {
   "cell_type": "code",
   "execution_count": 30,
   "metadata": {},
   "outputs": [],
   "source": [
    "df_plan['duration_hr_mid'].fillna(df_plan['duration_hr_mid'].mean(),\n",
    "                                  inplace=True)"
   ]
  },
  {
   "cell_type": "markdown",
   "metadata": {},
   "source": [
    "Parameter selection is important for the clustering algorithm and needs to account for the intricacies of the problem.  The algorithm here will do calculations based on haversine distance.\n",
    "\n",
    "The __`min_cluster_size`__ parameter sets out the minimum number of points required for a cluster.  I choose the value 3 as that is the number of attractions that I think could be covered at a minimum over one day.\n",
    "\n",
    "The __`min_samples`__ parameter is a bit less intuitive.  Its default value is set to `min_cluster_size`, but if a lower value is chosen then it pulls more of what would have been 'anomalous' points into clusters.  I think a lower value is worthwhile to choose for this problem.  For example, an attraction such as a large park or open space, e.g. Hyde Park, could be surrounded by built-up areas.  One 'point' may not reflect the grand scale of an attraction like Hyde Park, so it seems wrong to penalise cases like that.  However, we probably do not want to select the lowest possible value of 0, as we want to penalise attractions that seem far away from everything else in the dataset where we can.  Therefore I choose the intermediate value of 2 for the analysis."
   ]
  },
  {
   "cell_type": "code",
   "execution_count": 31,
   "metadata": {},
   "outputs": [],
   "source": [
    "# Convert geodata to radians\n",
    "rad_points = np.radians(df_plan[['latitude', 'longitude']].values)\n",
    "\n",
    "# min_cluster_size = 3: base on desire to visit at least 3 attractions per day\n",
    "# min_samples: choose intermediate value (higher than 0 but lower than min_cluster_size)\n",
    "clusterer = hdbscan.HDBSCAN(min_cluster_size=3, min_samples=2,\n",
    "                            metric='haversine', prediction_data=True)\n",
    "\n",
    "# Create a series to store cluster predictions by attraction\n",
    "cluster_pred = clusterer.fit_predict(rad_points)\n",
    "df_plan['cluster'] = cluster_pred"
   ]
  },
  {
   "cell_type": "markdown",
   "metadata": {},
   "source": [
    "## Clusters by attraction"
   ]
  },
  {
   "cell_type": "markdown",
   "metadata": {},
   "source": [
    "**Let's see the attractions, their predicted clusters and other useful information for itinerary planning all in one table!**"
   ]
  },
  {
   "cell_type": "code",
   "execution_count": 32,
   "metadata": {
    "scrolled": false
   },
   "outputs": [
    {
     "data": {
      "text/html": [
       "<div>\n",
       "<style scoped>\n",
       "    .dataframe tbody tr th:only-of-type {\n",
       "        vertical-align: middle;\n",
       "    }\n",
       "\n",
       "    .dataframe tbody tr th {\n",
       "        vertical-align: top;\n",
       "    }\n",
       "\n",
       "    .dataframe thead th {\n",
       "        text-align: right;\n",
       "    }\n",
       "</style>\n",
       "<table border=\"1\" class=\"dataframe\">\n",
       "  <thead>\n",
       "    <tr style=\"text-align: right;\">\n",
       "      <th></th>\n",
       "      <th>cluster</th>\n",
       "      <th>attraction</th>\n",
       "      <th>duration_hr_mid</th>\n",
       "      <th>nearest_station</th>\n",
       "    </tr>\n",
       "    <tr>\n",
       "      <th>rank</th>\n",
       "      <th></th>\n",
       "      <th></th>\n",
       "      <th></th>\n",
       "      <th></th>\n",
       "    </tr>\n",
       "  </thead>\n",
       "  <tbody>\n",
       "    <tr>\n",
       "      <th>3</th>\n",
       "      <td>-1</td>\n",
       "      <td>The British Museum</td>\n",
       "      <td>2.500000</td>\n",
       "      <td>Russell Square</td>\n",
       "    </tr>\n",
       "    <tr>\n",
       "      <th>15</th>\n",
       "      <td>-1</td>\n",
       "      <td>Camden Market</td>\n",
       "      <td>2.033333</td>\n",
       "      <td>Camden Town</td>\n",
       "    </tr>\n",
       "    <tr>\n",
       "      <th>17</th>\n",
       "      <td>0</td>\n",
       "      <td>The View from The Shard</td>\n",
       "      <td>1.500000</td>\n",
       "      <td>London Bridge</td>\n",
       "    </tr>\n",
       "    <tr>\n",
       "      <th>8</th>\n",
       "      <td>0</td>\n",
       "      <td>Tower Bridge</td>\n",
       "      <td>1.500000</td>\n",
       "      <td>Tower Gateway</td>\n",
       "    </tr>\n",
       "    <tr>\n",
       "      <th>9</th>\n",
       "      <td>0</td>\n",
       "      <td>Borough Market</td>\n",
       "      <td>2.033333</td>\n",
       "      <td>London Bridge</td>\n",
       "    </tr>\n",
       "    <tr>\n",
       "      <th>10</th>\n",
       "      <td>0</td>\n",
       "      <td>Tower of London</td>\n",
       "      <td>2.500000</td>\n",
       "      <td>Tower Hill</td>\n",
       "    </tr>\n",
       "    <tr>\n",
       "      <th>14</th>\n",
       "      <td>0</td>\n",
       "      <td>St. Paul's Cathedral</td>\n",
       "      <td>1.500000</td>\n",
       "      <td>St. Paul's</td>\n",
       "    </tr>\n",
       "    <tr>\n",
       "      <th>43</th>\n",
       "      <td>1</td>\n",
       "      <td>Harrods</td>\n",
       "      <td>2.033333</td>\n",
       "      <td>Knightsbridge</td>\n",
       "    </tr>\n",
       "    <tr>\n",
       "      <th>5</th>\n",
       "      <td>1</td>\n",
       "      <td>V&amp;A - Victoria and Albert Museum</td>\n",
       "      <td>2.500000</td>\n",
       "      <td>South Kensington</td>\n",
       "    </tr>\n",
       "    <tr>\n",
       "      <th>7</th>\n",
       "      <td>1</td>\n",
       "      <td>Hyde Park</td>\n",
       "      <td>2.500000</td>\n",
       "      <td>Marble Arch</td>\n",
       "    </tr>\n",
       "    <tr>\n",
       "      <th>13</th>\n",
       "      <td>1</td>\n",
       "      <td>Natural History Museum</td>\n",
       "      <td>3.500000</td>\n",
       "      <td>South Kensington</td>\n",
       "    </tr>\n",
       "    <tr>\n",
       "      <th>16</th>\n",
       "      <td>2</td>\n",
       "      <td>Covent Garden</td>\n",
       "      <td>2.033333</td>\n",
       "      <td>Covent Garden</td>\n",
       "    </tr>\n",
       "    <tr>\n",
       "      <th>1</th>\n",
       "      <td>2</td>\n",
       "      <td>National Gallery</td>\n",
       "      <td>2.500000</td>\n",
       "      <td>Leicester Square</td>\n",
       "    </tr>\n",
       "    <tr>\n",
       "      <th>42</th>\n",
       "      <td>2</td>\n",
       "      <td>Kinky Boots at Adelphi Theatre</td>\n",
       "      <td>2.500000</td>\n",
       "      <td>Charing Cross</td>\n",
       "    </tr>\n",
       "    <tr>\n",
       "      <th>6</th>\n",
       "      <td>3</td>\n",
       "      <td>Houses of Parliament</td>\n",
       "      <td>2.033333</td>\n",
       "      <td>Westminster</td>\n",
       "    </tr>\n",
       "    <tr>\n",
       "      <th>4</th>\n",
       "      <td>3</td>\n",
       "      <td>St. James's Park</td>\n",
       "      <td>1.500000</td>\n",
       "      <td>St. James's Park</td>\n",
       "    </tr>\n",
       "    <tr>\n",
       "      <th>2</th>\n",
       "      <td>3</td>\n",
       "      <td>Churchill War Rooms</td>\n",
       "      <td>2.033333</td>\n",
       "      <td>Westminster</td>\n",
       "    </tr>\n",
       "    <tr>\n",
       "      <th>19</th>\n",
       "      <td>3</td>\n",
       "      <td>Buckingham Palace</td>\n",
       "      <td>2.500000</td>\n",
       "      <td>Victoria</td>\n",
       "    </tr>\n",
       "    <tr>\n",
       "      <th>20</th>\n",
       "      <td>3</td>\n",
       "      <td>Coca-Cola London Eye</td>\n",
       "      <td>1.500000</td>\n",
       "      <td>Embankment</td>\n",
       "    </tr>\n",
       "    <tr>\n",
       "      <th>21</th>\n",
       "      <td>3</td>\n",
       "      <td>Big Ben</td>\n",
       "      <td>0.500000</td>\n",
       "      <td>Westminster</td>\n",
       "    </tr>\n",
       "    <tr>\n",
       "      <th>11</th>\n",
       "      <td>3</td>\n",
       "      <td>Westminster Abbey</td>\n",
       "      <td>1.500000</td>\n",
       "      <td>Westminster</td>\n",
       "    </tr>\n",
       "  </tbody>\n",
       "</table>\n",
       "</div>"
      ],
      "text/plain": [
       "      cluster                        attraction  duration_hr_mid  \\\n",
       "rank                                                               \n",
       "3          -1                The British Museum         2.500000   \n",
       "15         -1                     Camden Market         2.033333   \n",
       "17          0           The View from The Shard         1.500000   \n",
       "8           0                      Tower Bridge         1.500000   \n",
       "9           0                    Borough Market         2.033333   \n",
       "10          0                   Tower of London         2.500000   \n",
       "14          0              St. Paul's Cathedral         1.500000   \n",
       "43          1                           Harrods         2.033333   \n",
       "5           1  V&A - Victoria and Albert Museum         2.500000   \n",
       "7           1                         Hyde Park         2.500000   \n",
       "13          1            Natural History Museum         3.500000   \n",
       "16          2                     Covent Garden         2.033333   \n",
       "1           2                  National Gallery         2.500000   \n",
       "42          2    Kinky Boots at Adelphi Theatre         2.500000   \n",
       "6           3              Houses of Parliament         2.033333   \n",
       "4           3                  St. James's Park         1.500000   \n",
       "2           3               Churchill War Rooms         2.033333   \n",
       "19          3                 Buckingham Palace         2.500000   \n",
       "20          3              Coca-Cola London Eye         1.500000   \n",
       "21          3                           Big Ben         0.500000   \n",
       "11          3                 Westminster Abbey         1.500000   \n",
       "\n",
       "       nearest_station  \n",
       "rank                    \n",
       "3       Russell Square  \n",
       "15         Camden Town  \n",
       "17       London Bridge  \n",
       "8        Tower Gateway  \n",
       "9        London Bridge  \n",
       "10          Tower Hill  \n",
       "14          St. Paul's  \n",
       "43       Knightsbridge  \n",
       "5     South Kensington  \n",
       "7          Marble Arch  \n",
       "13    South Kensington  \n",
       "16       Covent Garden  \n",
       "1     Leicester Square  \n",
       "42       Charing Cross  \n",
       "6          Westminster  \n",
       "4     St. James's Park  \n",
       "2          Westminster  \n",
       "19            Victoria  \n",
       "20          Embankment  \n",
       "21         Westminster  \n",
       "11         Westminster  "
      ]
     },
     "execution_count": 32,
     "metadata": {},
     "output_type": "execute_result"
    }
   ],
   "source": [
    "df_plan[['cluster', 'attraction',\n",
    "         'duration_hr_mid', 'nearest_station']].sort_values('cluster')"
   ]
  },
  {
   "cell_type": "markdown",
   "metadata": {},
   "source": [
    "**These are labels I would give to the four clusters that have been formed:**\n",
    "* 0: City of London and Southwark\n",
    "* 1: Kensington and Knightsbridge\n",
    "* 2: The West End\n",
    "* 3: Westminster and the South Bank\n",
    "\n",
    "The two attractions in `cluster '-1'`, i.e. the _anomalous points_, are the British Museum and Camden Market.  The British Museum is not close enough to the three attractions in cluster 2, which form a fairly tight cluster, for it to be captured there.\n",
    "\n",
    "**The attractions are shown in a scatterplot below.**"
   ]
  },
  {
   "cell_type": "code",
   "execution_count": 33,
   "metadata": {},
   "outputs": [
    {
     "data": {
      "image/png": "[encoded data removed]",
      "text/plain": [
       "<Figure size 792x576 with 1 Axes>"
      ]
     },
     "metadata": {},
     "output_type": "display_data"
    }
   ],
   "source": [
    "fig, ax1 = plt.subplots(figsize=(11,8))\n",
    "\n",
    "# Main plot info\n",
    "sns.scatterplot(x=df_plan['longitude'], y=df_plan['latitude'],\n",
    "                hue=df_plan['cluster'], palette='Set1', legend='full', s=85, ax=ax1)\n",
    "\n",
    "# Annonate the points that are outliers in the cluster analysis\n",
    "extremities = df_plan[df_plan['cluster'] == -1]  # dataframe\n",
    "for i, txt in enumerate(extremities['attraction']):\n",
    "    ax1.annotate(txt, (extremities['longitude'].iat[i], extremities['latitude'].iat[i]),\n",
    "                 fontsize=12, horizontalalignment='right', verticalalignment='upper')\n",
    "\n",
    "ax1.set_title('Clustering of highest-rated London attractions')\n",
    "\n",
    "plt.show()"
   ]
  },
  {
   "cell_type": "markdown",
   "metadata": {},
   "source": [
    "## Out-of-sample prediction"
   ]
  },
  {
   "cell_type": "markdown",
   "metadata": {},
   "source": [
    "One of the highest-rated **travel guides** for London on TripAdvisor is Chris O's [3 Days In London](https://www.tripadvisor.co.uk/Guide-g186338-k8-London_England.html) guide.  There are 10 sights listed in the guide so it will be interesting to see if the itinerary's days are grouped in a similar way to the clusters analysed with HDBSCAN."
   ]
  },
  {
   "cell_type": "markdown",
   "metadata": {},
   "source": [
    "**This is the itinerary for the sights in the travel guide:**\n",
    "* Day 1: The British Museum; Covent Garden; Coca-Cola London Eye\n",
    "* Day 2: Buckingham Palace; Houses of Parliament; Westminster Abbey\n",
    "* Day 3: St. Paul's Cathedral; Shakespeare's Globe Theatre; Tower Bridge; Tower of London\n",
    "\n",
    "It is great to see that there is one sight in the guide that is outside of the `sights` dataset: Shakespeare's Globe Theatre!  All the other sights have been clustered with HDBSCAN.\n",
    "\n",
    "This gives the opportunity to predict the cluster of the **out-of-sample sight** based on the data."
   ]
  },
  {
   "cell_type": "code",
   "execution_count": 34,
   "metadata": {},
   "outputs": [
    {
     "data": {
      "text/plain": [
       "(array([0]), array([0.92457204]))"
      ]
     },
     "execution_count": 34,
     "metadata": {},
     "output_type": "execute_result"
    }
   ],
   "source": [
    "# One test point: Shakespeare's Globe Theatre\n",
    "hdbscan.approximate_predict(clusterer, np.radians([[51.508076, -0.097194]]))"
   ]
  },
  {
   "cell_type": "markdown",
   "metadata": {},
   "source": [
    "The Globe Theatre is predicted to be in cluster 0, with a high confidence level (higher than 0.9).\n",
    "\n",
    "**Let's examine the itinerary developed by Chris and compare it to the HDBSCAN clusters.**"
   ]
  },
  {
   "cell_type": "code",
   "execution_count": 35,
   "metadata": {},
   "outputs": [
    {
     "data": {
      "text/html": [
       "<div>\n",
       "<style scoped>\n",
       "    .dataframe tbody tr th:only-of-type {\n",
       "        vertical-align: middle;\n",
       "    }\n",
       "\n",
       "    .dataframe tbody tr th {\n",
       "        vertical-align: top;\n",
       "    }\n",
       "\n",
       "    .dataframe thead th {\n",
       "        text-align: right;\n",
       "    }\n",
       "</style>\n",
       "<table border=\"1\" class=\"dataframe\">\n",
       "  <thead>\n",
       "    <tr style=\"text-align: right;\">\n",
       "      <th></th>\n",
       "      <th>attraction</th>\n",
       "      <th>latitude</th>\n",
       "      <th>longitude</th>\n",
       "      <th>duration_hr_mid</th>\n",
       "      <th>cluster</th>\n",
       "      <th>chris_day</th>\n",
       "    </tr>\n",
       "    <tr>\n",
       "      <th>rank</th>\n",
       "      <th></th>\n",
       "      <th></th>\n",
       "      <th></th>\n",
       "      <th></th>\n",
       "      <th></th>\n",
       "      <th></th>\n",
       "    </tr>\n",
       "  </thead>\n",
       "  <tbody>\n",
       "    <tr>\n",
       "      <th>3</th>\n",
       "      <td>The British Museum</td>\n",
       "      <td>51.519413</td>\n",
       "      <td>-0.126957</td>\n",
       "      <td>2.500000</td>\n",
       "      <td>-1</td>\n",
       "      <td>1</td>\n",
       "    </tr>\n",
       "    <tr>\n",
       "      <th>16</th>\n",
       "      <td>Covent Garden</td>\n",
       "      <td>51.511780</td>\n",
       "      <td>-0.123191</td>\n",
       "      <td>2.033333</td>\n",
       "      <td>2</td>\n",
       "      <td>1</td>\n",
       "    </tr>\n",
       "    <tr>\n",
       "      <th>20</th>\n",
       "      <td>Coca-Cola London Eye</td>\n",
       "      <td>51.503324</td>\n",
       "      <td>-0.119543</td>\n",
       "      <td>1.500000</td>\n",
       "      <td>3</td>\n",
       "      <td>1</td>\n",
       "    </tr>\n",
       "    <tr>\n",
       "      <th>19</th>\n",
       "      <td>Buckingham Palace</td>\n",
       "      <td>51.501364</td>\n",
       "      <td>-0.141890</td>\n",
       "      <td>2.500000</td>\n",
       "      <td>3</td>\n",
       "      <td>2</td>\n",
       "    </tr>\n",
       "    <tr>\n",
       "      <th>6</th>\n",
       "      <td>Houses of Parliament</td>\n",
       "      <td>51.499480</td>\n",
       "      <td>-0.124809</td>\n",
       "      <td>2.033333</td>\n",
       "      <td>3</td>\n",
       "      <td>2</td>\n",
       "    </tr>\n",
       "    <tr>\n",
       "      <th>11</th>\n",
       "      <td>Westminster Abbey</td>\n",
       "      <td>51.499417</td>\n",
       "      <td>-0.127571</td>\n",
       "      <td>1.500000</td>\n",
       "      <td>3</td>\n",
       "      <td>2</td>\n",
       "    </tr>\n",
       "    <tr>\n",
       "      <th>14</th>\n",
       "      <td>St. Paul's Cathedral</td>\n",
       "      <td>51.513845</td>\n",
       "      <td>-0.098351</td>\n",
       "      <td>1.500000</td>\n",
       "      <td>0</td>\n",
       "      <td>3</td>\n",
       "    </tr>\n",
       "    <tr>\n",
       "      <th>122</th>\n",
       "      <td>Shakespeare's Globe Theatre</td>\n",
       "      <td>51.508076</td>\n",
       "      <td>-0.097194</td>\n",
       "      <td>NaN</td>\n",
       "      <td>OOS</td>\n",
       "      <td>3</td>\n",
       "    </tr>\n",
       "    <tr>\n",
       "      <th>8</th>\n",
       "      <td>Tower Bridge</td>\n",
       "      <td>51.505500</td>\n",
       "      <td>-0.075406</td>\n",
       "      <td>1.500000</td>\n",
       "      <td>0</td>\n",
       "      <td>3</td>\n",
       "    </tr>\n",
       "    <tr>\n",
       "      <th>10</th>\n",
       "      <td>Tower of London</td>\n",
       "      <td>51.508112</td>\n",
       "      <td>-0.075949</td>\n",
       "      <td>2.500000</td>\n",
       "      <td>0</td>\n",
       "      <td>3</td>\n",
       "    </tr>\n",
       "  </tbody>\n",
       "</table>\n",
       "</div>"
      ],
      "text/plain": [
       "                       attraction   latitude  longitude  duration_hr_mid  \\\n",
       "rank                                                                       \n",
       "3              The British Museum  51.519413  -0.126957         2.500000   \n",
       "16                  Covent Garden  51.511780  -0.123191         2.033333   \n",
       "20           Coca-Cola London Eye  51.503324  -0.119543         1.500000   \n",
       "19              Buckingham Palace  51.501364  -0.141890         2.500000   \n",
       "6            Houses of Parliament  51.499480  -0.124809         2.033333   \n",
       "11              Westminster Abbey  51.499417  -0.127571         1.500000   \n",
       "14           St. Paul's Cathedral  51.513845  -0.098351         1.500000   \n",
       "122   Shakespeare's Globe Theatre  51.508076  -0.097194              NaN   \n",
       "8                    Tower Bridge  51.505500  -0.075406         1.500000   \n",
       "10                Tower of London  51.508112  -0.075949         2.500000   \n",
       "\n",
       "     cluster  chris_day  \n",
       "rank                     \n",
       "3         -1          1  \n",
       "16         2          1  \n",
       "20         3          1  \n",
       "19         3          2  \n",
       "6          3          2  \n",
       "11         3          2  \n",
       "14         0          3  \n",
       "122      OOS          3  \n",
       "8          0          3  \n",
       "10         0          3  "
      ]
     },
     "execution_count": 35,
     "metadata": {},
     "output_type": "execute_result"
    }
   ],
   "source": [
    "# Create dataframe for 'out-of-sample' (OOS) analysis\n",
    "df_oos = df_plan[['attraction', 'latitude', 'longitude',\n",
    "                  'duration_hr_mid', 'cluster']].copy()\n",
    "\n",
    "# Gather the day for each sight in Chris O's travel guide\n",
    "days = {\"The British Museum\": 1, \"Covent Garden\": 1,\n",
    "        \"Coca-Cola London Eye\": 1,\n",
    "        \"Buckingham Palace\": 2, \"Houses of Parliament\": 2,\n",
    "        \"Westminster Abbey\": 2,\n",
    "        \"St. Paul's Cathedral\": 3, \"Shakespeare's Globe Theatre\": 3,\n",
    "        \"Tower Bridge\": 3, \"Tower of London\": 3}\n",
    "\n",
    "# Keep only the sights in `days` dict and add the Globe Theatre\n",
    "df_oos = df_oos[df_oos['attraction'].isin(list(days.keys()))]\n",
    "df_oos = df_oos.append(pd.Series({'attraction': \"Shakespeare's Globe Theatre\",\n",
    "                                  'cluster': 'OOS',\n",
    "                                  'latitude': 51.508076,\n",
    "                                  'longitude': -0.097194}, name=122))\n",
    "\n",
    "# Create new column to represent the day in Chris O's travel guide\n",
    "df_oos['chris_day'] = df_oos['attraction'].map(days)\n",
    "\n",
    "# Reindex the dataframe to match the travel guide's order\n",
    "df_oos = df_oos.reindex([3, 16, 20,\n",
    "                         19, 6, 11,\n",
    "                         14, 122, 8, 10])\n",
    "df_oos"
   ]
  },
  {
   "cell_type": "markdown",
   "metadata": {},
   "source": [
    "It is interesting that all of the Day 2 sights are in cluster 3 and all of the sights of Day 3 are in cluster 0 (when including the Globe Theatre)!\n",
    "\n",
    "However Day 1 has each of its three sights in different clusters.\n",
    "\n",
    "Of the three days, I think that Day 3 is probably the most ambitious in terms of how much time is needed to experience the sights.\n",
    "\n",
    "The actual distance between Covent Garden and the British Museum is quite similar to the distance between St Paul's Cathedral and the Globe Theatre.  The British Museum is seen as anomalous by the clustering algorithm though due to cluster 2 (the West End) being much tighter than cluster 0 (City of London and Southwark).\n",
    "\n",
    "None of the attractions in the travel guide are in cluster 1 (Kensington & Knightsbridge).  The travel guide is intended to cover essential attractions over a three-day period, so perhaps the museums and shopping activities there do not have a wide appeal, or the area may be seen as too far away from the city centre."
   ]
  },
  {
   "cell_type": "markdown",
   "metadata": {},
   "source": [
    "The plot below focuses on cluster 0 and the out-of-sample attraction more closely."
   ]
  },
  {
   "cell_type": "code",
   "execution_count": 36,
   "metadata": {},
   "outputs": [
    {
     "data": {
      "image/png": "[encoded data removed]",
      "text/plain": [
       "<Figure size 792x576 with 1 Axes>"
      ]
     },
     "metadata": {},
     "output_type": "display_data"
    }
   ],
   "source": [
    "fig, ax1 = plt.subplots(figsize=(11,8))\n",
    "\n",
    "df_subset = df_oos[df_oos['cluster'].isin({0, 'OOS'})]  # dataframe\n",
    "\n",
    "# Main plot info\n",
    "sns.scatterplot(x=df_subset['longitude'], y=df_subset['latitude'],\n",
    "                hue=df_subset['cluster'], palette='tab10', legend='full', s=85, ax=ax1)\n",
    "\n",
    "# Annonate the points that are outliers in the cluster analysis\n",
    "for i, txt in enumerate(df_subset['attraction']):\n",
    "    ax1.annotate(txt, (df_subset['longitude'].iat[i], df_subset['latitude'].iat[i]),\n",
    "                 fontsize=12, horizontalalignment='center', verticalalignment='upper')\n",
    "\n",
    "ax1.set_title(\"Plot of cluster '0' attractions and the Globe Theatre\")\n",
    "\n",
    "plt.show()"
   ]
  },
  {
   "cell_type": "markdown",
   "metadata": {},
   "source": [
    "**How useful is HDBSCAN for travel planning?:** Clustering with HDBSCAN gives intuition on which notable attractions are grouped close together.  That is useful for identifying areas of interest, but Euclidean distance does not capture 'actual' traversing distance.\n",
    "\n",
    "**For me it seems that HDBSCAN is highly practical for creating a shortlist of attractions for each day of an itinerary.**  That could reduce the time involved in travel planning as thinking of 'where to start' is often the trickiest thing to do when drafting an itinerary."
   ]
  }
 ],
 "metadata": {
  "kernelspec": {
   "display_name": "Python 3",
   "language": "python",
   "name": "python3"
  },
  "language_info": {
   "codemirror_mode": {
    "name": "ipython",
    "version": 3
   },
   "file_extension": ".py",
   "mimetype": "text/x-python",
   "name": "python",
   "nbconvert_exporter": "python",
   "pygments_lexer": "ipython3",
   "version": "3.6.5"
  },
  "toc": {
   "base_numbering": 1,
   "nav_menu": {},
   "number_sections": true,
   "sideBar": true,
   "skip_h1_title": false,
   "title_cell": "Table of Contents",
   "title_sidebar": "Contents",
   "toc_cell": false,
   "toc_position": {},
   "toc_section_display": true,
   "toc_window_display": true
  }
 },
 "nbformat": 4,
 "nbformat_minor": 2
}
